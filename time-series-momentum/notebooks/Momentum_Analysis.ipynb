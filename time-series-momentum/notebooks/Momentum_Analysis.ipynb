{
 "cells": [
  {
   "cell_type": "code",
   "execution_count": 1,
   "metadata": {},
   "outputs": [],
   "source": [
    "import sys\n",
    "sys.path.append('../')"
   ]
  },
  {
   "cell_type": "code",
   "execution_count": 2,
   "metadata": {},
   "outputs": [],
   "source": [
    "import numpy as np\n",
    "import pandas as pd\n",
    "from tqdm import tqdm\n",
    "import statsmodels.api as sm\n",
    "import matplotlib.pyplot as plt"
   ]
  },
  {
   "cell_type": "code",
   "execution_count": 3,
   "metadata": {},
   "outputs": [
    {
     "name": "stderr",
     "output_type": "stream",
     "text": [
      "Using TensorFlow backend.\n"
     ]
    }
   ],
   "source": [
    "from utils.backtest import calc_single_asset_backtest\n",
    "from utils.data_loaders import load_clc_db_records\n",
    "from utils.features import construct_features_batch\n",
    "from utils.data_handling import merge_asset_data, split_by_date\n",
    "from utils.loss_functions import return_loss, sharpe_loss, return_loss_dummy, sharpe_loss_dummy"
   ]
  },
  {
   "cell_type": "code",
   "execution_count": 4,
   "metadata": {},
   "outputs": [],
   "source": [
    "SIGMA_TARGET = 0.15"
   ]
  },
  {
   "cell_type": "code",
   "execution_count": 5,
   "metadata": {},
   "outputs": [],
   "source": [
    "RAD_DATA_PATH = '../data/clc/rad/'\n",
    "FED_DATA_PATH = '../data/FEDFUNDS.csv'"
   ]
  },
  {
   "cell_type": "code",
   "execution_count": 6,
   "metadata": {},
   "outputs": [],
   "source": [
    "clc = load_clc_db_records(RAD_DATA_PATH, FED_DATA_PATH)"
   ]
  },
  {
   "cell_type": "code",
   "execution_count": 7,
   "metadata": {},
   "outputs": [],
   "source": [
    "assets_to_use = ['AN', 'BN', 'CC', 'CN', 'CT', 'DT', 'DX', 'EC', 'FB', 'FF', 'FN',\n",
    "       'FX', 'GI', 'GS', 'JN', 'JO', 'KC', 'KW', 'LB', 'LX', 'MD', 'MW',\n",
    "       'NK', 'NR', 'PA', 'SB', 'SN', 'SP', 'SS', 'TU', 'TY', 'US', 'W',\n",
    "       'ZA', 'ZB', 'ZC', 'ZF', 'ZG', 'ZH', 'ZI', 'ZK', 'ZL', 'ZM', 'ZN',\n",
    "       'ZO', 'ZP', 'ZR', 'ZS', 'ZT', 'ZU', 'ZW', 'ZZ']\n",
    "exclude_assets = ['FF', 'EC', 'TU', 'SS']\n",
    "assets_to_use = list(set(assets_to_use) - set(exclude_assets))\n",
    "\n",
    "temp_clc = {}\n",
    "for asset, df in clc.items():\n",
    "    if asset in assets_to_use:\n",
    "        temp_clc[asset] = df\n",
    "clc = temp_clc"
   ]
  },
  {
   "cell_type": "code",
   "execution_count": 8,
   "metadata": {},
   "outputs": [
    {
     "name": "stderr",
     "output_type": "stream",
     "text": [
      "../utils/features.py:52: RuntimeWarning: invalid value encountered in log\n",
      "  df['Sigma_Norm'] = np.log(df['Sigma'] / df['Sigma'].rolling(181).mean())\n"
     ]
    }
   ],
   "source": [
    "clc = construct_features_batch(clc)\n",
    "for asset, df in clc.items():\n",
    "    df.set_index('Date', inplace=True)"
   ]
  },
  {
   "cell_type": "code",
   "execution_count": null,
   "metadata": {},
   "outputs": [],
   "source": []
  },
  {
   "cell_type": "code",
   "execution_count": 9,
   "metadata": {},
   "outputs": [],
   "source": [
    "def perform_monthly_lag_return_regression(df, month_lag=1, verbose=False):\n",
    "    monthly_returns = ((1 + df.Returns_Daily).resample('M').prod() - 1).rename('Monthly_Returns')\n",
    "    monthly_sigma = np.sqrt((df.Returns_Daily ** 2).resample('M').sum()).rename('Monthly_Sigma')\n",
    "    norm_lag_return = monthly_returns.shift(-1) / monthly_sigma\n",
    "    next_norm_lag_return = norm_lag_return.shift(-month_lag)\n",
    "    reg_df = pd.DataFrame([norm_lag_return, next_norm_lag_return], index=['norm_returns', 'next_norm_returns']).T\n",
    "    reg_df.dropna(inplace=True)\n",
    "    X = reg_df['norm_returns']\n",
    "    y = reg_df['next_norm_returns']\n",
    "    X = sm.add_constant(X)\n",
    "    model = sm.OLS(y, X)\n",
    "    results = model.fit(cov_type='HC3')\n",
    "    if verbose:\n",
    "        print(results.summary())\n",
    "    return results.pvalues[-1]\n",
    "\n",
    "def perform_monthly_lag_return_regression_all_data(clc, month_lag=[1], verbose=False):\n",
    "    reg_dfs = {}\n",
    "    for asset, df in clc.items():\n",
    "        monthly_returns = ((1 + df.Returns_Daily).resample('M').prod() - 1).rename('Monthly_Returns')\n",
    "        df['Parkinson_Volatility'] = np.sqrt(252 * (1 / (4 * np.log(2))) * (np.log(df['High'] / df['Low']) ** 2)) # np.sqrt((df.Returns_Daily ** 2).resample('M').sum()).rename('Monthly_Sigma')\n",
    "        monthly_sigma = np.sqrt(21) * df['Parkinson_Volatility'].resample('M').mean()\n",
    "        norm_lag_return = monthly_returns.shift(-1) / monthly_sigma\n",
    "        lag_data = []\n",
    "        for lag in month_lag:\n",
    "            lag_data.append(norm_lag_return.shift(-lag))\n",
    "        reg_df = pd.DataFrame([norm_lag_return] + lag_data, index=['norm_returns'] + ['lag_' + str(lag) for lag in month_lag]).T\n",
    "        reg_df.dropna(inplace=True)\n",
    "        reg_dfs[asset] = reg_df\n",
    "    reg_dfs = [df for asset, df in reg_dfs.items()]\n",
    "    reg_df = pd.concat(reg_dfs, ignore_index=True)\n",
    "    reg_df.replace([np.inf, -np.inf], np.nan, inplace=True)\n",
    "    reg_df.dropna(inplace=True)\n",
    "    X = reg_df['norm_returns']\n",
    "    X = sm.add_constant(X)\n",
    "    result_collection = {}\n",
    "    for lag in tqdm(month_lag):\n",
    "        y = reg_df['lag_' + str(lag)]\n",
    "        model = sm.OLS(y, X)\n",
    "        results = model.fit(cov_type='HC3')\n",
    "        result_collection[lag] = {'pvalue': results.pvalues[-1], 'tvalue': results.tvalues[-1]}\n",
    "        if verbose:\n",
    "            print(results.summary())\n",
    "    return result_collection\n",
    "\n",
    "def perform_monthly_lag_return_regression_by_asset(clc, month_lag=[1], verbose=False):\n",
    "    asset_collection = {}\n",
    "    for asset, df in tqdm(clc.items()):\n",
    "        monthly_returns = ((1 + df.Returns_Daily).resample('M').prod() - 1).rename('Monthly_Returns')\n",
    "        df['Parkinson_Volatility'] = np.sqrt(252 * (1 / (4 * np.log(2))) * (np.log(df['High'] / df['Low']) ** 2)) # np.sqrt((df.Returns_Daily ** 2).resample('M').sum()).rename('Monthly_Sigma')\n",
    "        monthly_sigma = np.sqrt(21) * df['Parkinson_Volatility'].resample('M').mean()\n",
    "        norm_lag_return = monthly_returns.shift(-1) / monthly_sigma\n",
    "        lag_data = []\n",
    "        for lag in month_lag:\n",
    "            lag_data.append(norm_lag_return.shift(-lag))\n",
    "        reg_df = pd.DataFrame([norm_lag_return] + lag_data, index=['norm_returns'] + ['lag_' + str(lag) for lag in month_lag]).T\n",
    "        reg_df.replace([np.inf, -np.inf], np.nan, inplace=True)\n",
    "        reg_df.dropna(inplace=True)\n",
    "        X = reg_df['norm_returns']\n",
    "        X = sm.add_constant(X)\n",
    "        result_collection = {}\n",
    "        for lag in month_lag:\n",
    "            y = reg_df['lag_' + str(lag)]\n",
    "            model = sm.OLS(y, X)\n",
    "            results = model.fit(cov_type='HC3')\n",
    "            result_collection[lag] = {'pvalue': results.pvalues[-1], 'tvalue': results.tvalues[-1]}\n",
    "        asset_collection[asset] = result_collection\n",
    "    return asset_collection"
   ]
  },
  {
   "cell_type": "code",
   "execution_count": 91,
   "metadata": {},
   "outputs": [
    {
     "name": "stderr",
     "output_type": "stream",
     "text": [
      "/home/maxlamberti/anaconda3/envs/AI_ENV/lib/python3.6/site-packages/numpy/core/fromnumeric.py:2389: FutureWarning: Method .ptp is deprecated and will be removed in a future version. Use numpy.ptp instead.\n",
      "  return ptp(axis=axis, out=out, **kwargs)\n",
      "100%|██████████| 60/60 [01:25<00:00,  1.43s/it]\n"
     ]
    }
   ],
   "source": [
    "# perform_monthly_lag_return_regression(df, month_lag=8, verbose=True)\n",
    "batch_results = perform_monthly_lag_return_regression_all_data(clc, month_lag=list(range(1, 61)))"
   ]
  },
  {
   "cell_type": "code",
   "execution_count": 12,
   "metadata": {},
   "outputs": [
    {
     "name": "stderr",
     "output_type": "stream",
     "text": [
      "100%|██████████| 48/48 [00:05<00:00,  8.37it/s]\n"
     ]
    }
   ],
   "source": [
    "single_asset_results = perform_monthly_lag_return_regression_by_asset(clc, month_lag=list(range(1, 36)))"
   ]
  },
  {
   "cell_type": "code",
   "execution_count": 16,
   "metadata": {},
   "outputs": [
    {
     "data": {
      "text/plain": [
       "[<matplotlib.lines.Line2D at 0x7ff03c93a4a8>]"
      ]
     },
     "execution_count": 16,
     "metadata": {},
     "output_type": "execute_result"
    },
    {
     "data": {
      "image/png": "[encoded data removed]",
      "text/plain": [
       "<Figure size 432x288 with 1 Axes>"
      ]
     },
     "metadata": {
      "needs_background": "light"
     },
     "output_type": "display_data"
    }
   ],
   "source": [
    "from collections import Counter\n",
    "\n",
    "counts = Counter(lag_count)\n",
    "vals = [k for k, v in counts.items()]\n",
    "occurances = [v for k, v in counts.items()]\n",
    "plt.plot(vals, occurances, 'o')"
   ]
  },
  {
   "cell_type": "code",
   "execution_count": 12,
   "metadata": {},
   "outputs": [],
   "source": [
    "# lag_count = []\n",
    "# for asset, result in single_asset_results.items():\n",
    "# #     pvals_asset = [val['pvalue'] for k, val in result.items()]\n",
    "#     tvals_asset = np.array([val['tvalue'] for k, val in result.items()])\n",
    "#     print(asset)\n",
    "#     print(np.sum(tvals_asset[:12] > 0))\n",
    "#     print()\n",
    "#     lag_count.append(np.sum(tvals_asset[:12] > 0))\n",
    "# # #     plt.bar(list(range(1, 36)), tvals_asset)\n",
    "# # #     plt.title(asset)\n",
    "# # #     plt.show()"
   ]
  },
  {
   "cell_type": "code",
   "execution_count": 13,
   "metadata": {},
   "outputs": [],
   "source": [
    "# batch_results"
   ]
  },
  {
   "cell_type": "code",
   "execution_count": 92,
   "metadata": {},
   "outputs": [],
   "source": [
    "pvals = [val['pvalue'] for k, val in batch_results.items()]\n",
    "tvals = [val['tvalue'] for k, val in batch_results.items()]"
   ]
  },
  {
   "cell_type": "code",
   "execution_count": 93,
   "metadata": {},
   "outputs": [
    {
     "data": {
      "text/plain": [
       "<BarContainer object of 60 artists>"
      ]
     },
     "execution_count": 93,
     "metadata": {},
     "output_type": "execute_result"
    },
    {
     "data": {
      "image/png": "[encoded data removed]",
      "text/plain": [
       "<Figure size 432x288 with 1 Axes>"
      ]
     },
     "metadata": {
      "needs_background": "light"
     },
     "output_type": "display_data"
    }
   ],
   "source": [
    "plt.bar(list(range(1, 61)), pvals)"
   ]
  },
  {
   "cell_type": "code",
   "execution_count": 95,
   "metadata": {},
   "outputs": [],
   "source": [
    "window_size = 12\n",
    "sig = 1\n",
    "max_lag = len(tvals) + 1\n",
    "mean_coeff = pd.Series(tvals, index=list(range(1, max_lag))).rolling(window_size, center=True, min_periods=0).mean()\n",
    "std_coeff = pd.Series(tvals, index=list(range(1, max_lag))).rolling(window_size, center=True, min_periods=0).std()"
   ]
  },
  {
   "cell_type": "code",
   "execution_count": 106,
   "metadata": {},
   "outputs": [
    {
     "data": {
      "image/png": "[encoded data removed]",
      "text/plain": [
       "<Figure size 576x360 with 1 Axes>"
      ]
     },
     "metadata": {
      "needs_background": "light"
     },
     "output_type": "display_data"
    }
   ],
   "source": [
    "plt.figure(figsize=(8,5))\n",
    "plt.bar(list(range(1, max_lag)), tvals, label='AR Coefficient $t$-value')\n",
    "mean_coeff.plot(color='r', lw=1.75, label='Windowed Mean')\n",
    "# (mean_coeff + sig *  std_coeff).plot(color='k', alpha=0.2)\n",
    "# (mean_coeff - sig * std_coeff).plot(color='k', alpha=0.2)\n",
    "plt.hlines(0, -10, max_lag + 2)\n",
    "plt.xlim(0, max_lag)\n",
    "plt.ylabel('$t$-value')\n",
    "plt.xlabel('Lag (Months)')\n",
    "plt.legend(loc='lower right')\n",
    "plt.tight_layout()\n",
    "plt.savefig('/home/maxlamberti/Code/time-series-momentum/plots/ar_lag_plot_60.png', dpi=350)"
   ]
  },
  {
   "cell_type": "code",
   "execution_count": null,
   "metadata": {},
   "outputs": [],
   "source": []
  },
  {
   "cell_type": "code",
   "execution_count": 14,
   "metadata": {},
   "outputs": [],
   "source": [
    "norm_lag_return = df.Next_Returns_Daily / df.Sigma\n",
    "next_norm_lag_return = df.Next_Returns_Daily.shift(-1) / df.Sigma\n",
    "reg_df = pd.DataFrame([norm_lag_return, next_norm_lag_return], index=['norm_returns', 'next_norm_returns']).T\n",
    "reg_df.dropna(inplace=True)"
   ]
  },
  {
   "cell_type": "code",
   "execution_count": null,
   "metadata": {},
   "outputs": [],
   "source": []
  },
  {
   "cell_type": "code",
   "execution_count": 34,
   "metadata": {},
   "outputs": [],
   "source": [
    "X = reg_df['norm_returns']\n",
    "y = reg_df['next_norm_returns']\n",
    "X = sm.add_constant(X)"
   ]
  },
  {
   "cell_type": "code",
   "execution_count": 35,
   "metadata": {},
   "outputs": [
    {
     "name": "stdout",
     "output_type": "stream",
     "text": [
      "                            OLS Regression Results                            \n",
      "==============================================================================\n",
      "Dep. Variable:      next_norm_returns   R-squared:                       0.001\n",
      "Model:                            OLS   Adj. R-squared:                  0.001\n",
      "Method:                 Least Squares   F-statistic:                     3.056\n",
      "Date:                Thu, 19 Mar 2020   Prob (F-statistic):             0.0805\n",
      "Time:                        20:35:08   Log-Likelihood:                -9575.6\n",
      "No. Observations:                6496   AIC:                         1.916e+04\n",
      "Df Residuals:                    6494   BIC:                         1.917e+04\n",
      "Df Model:                           1                                         \n",
      "Covariance Type:                  HC3                                         \n",
      "================================================================================\n",
      "                   coef    std err          z      P>|z|      [0.025      0.975]\n",
      "--------------------------------------------------------------------------------\n",
      "const            0.0352      0.013      2.648      0.008       0.009       0.061\n",
      "norm_returns    -0.0330      0.019     -1.748      0.080      -0.070       0.004\n",
      "==============================================================================\n",
      "Omnibus:                     1322.036   Durbin-Watson:                   2.004\n",
      "Prob(Omnibus):                  0.000   Jarque-Bera (JB):             9098.028\n",
      "Skew:                          -0.798   Prob(JB):                         0.00\n",
      "Kurtosis:                       8.574   Cond. No.                         1.06\n",
      "==============================================================================\n",
      "\n",
      "Warnings:\n",
      "[1] Standard Errors are heteroscedasticity robust (HC3)\n"
     ]
    }
   ],
   "source": [
    "model = sm.OLS(y, X)\n",
    "results = model.fit(cov_type='HC3')\n",
    "print(results.summary())"
   ]
  },
  {
   "cell_type": "code",
   "execution_count": 36,
   "metadata": {},
   "outputs": [
    {
     "data": {
      "text/plain": [
       "0.08045755616551362"
      ]
     },
     "execution_count": 36,
     "metadata": {},
     "output_type": "execute_result"
    }
   ],
   "source": [
    "results.pvalues[-1]"
   ]
  },
  {
   "cell_type": "code",
   "execution_count": 37,
   "metadata": {},
   "outputs": [
    {
     "data": {
      "text/plain": [
       "const           2.647612\n",
       "norm_returns   -1.748037\n",
       "dtype: float64"
      ]
     },
     "execution_count": 37,
     "metadata": {},
     "output_type": "execute_result"
    }
   ],
   "source": [
    "results.tvalues[-1]"
   ]
  },
  {
   "cell_type": "code",
   "execution_count": null,
   "metadata": {},
   "outputs": [],
   "source": []
  }
 ],
 "metadata": {
  "kernelspec": {
   "display_name": "Python 3",
   "language": "python",
   "name": "python3"
  },
  "language_info": {
   "codemirror_mode": {
    "name": "ipython",
    "version": 3
   },
   "file_extension": ".py",
   "mimetype": "text/x-python",
   "name": "python",
   "nbconvert_exporter": "python",
   "pygments_lexer": "ipython3",
   "version": "3.6.8"
  }
 },
 "nbformat": 4,
 "nbformat_minor": 4
}
