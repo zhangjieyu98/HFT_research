{
 "cells": [
  {
   "cell_type": "code",
   "execution_count": 70,
   "metadata": {},
   "outputs": [],
   "source": [
    "import sys\n",
    "sys.path.append('../')"
   ]
  },
  {
   "cell_type": "code",
   "execution_count": 71,
   "metadata": {},
   "outputs": [],
   "source": [
    "import keras\n",
    "import numpy as np\n",
    "import pandas as pd\n",
    "import tensorflow as tf\n",
    "import matplotlib.pyplot as plt"
   ]
  },
  {
   "cell_type": "code",
   "execution_count": 72,
   "metadata": {},
   "outputs": [],
   "source": [
    "from utils.backtest import calc_single_asset_backtest\n",
    "from utils.data_loaders import load_clc_db_records\n",
    "from utils.features import construct_features_batch\n",
    "from utils.data_handling import merge_asset_data, split_by_date\n",
    "from utils.loss_functions import return_loss, sharpe_loss, return_loss_dummy, sharpe_loss_dummy"
   ]
  },
  {
   "cell_type": "code",
   "execution_count": 73,
   "metadata": {},
   "outputs": [],
   "source": [
    "config = tf.ConfigProto(device_count = {'GPU': 1 , 'CPU': 8}) \n",
    "sess = tf.Session(config=config) \n",
    "keras.backend.set_session(sess)"
   ]
  },
  {
   "cell_type": "code",
   "execution_count": 74,
   "metadata": {},
   "outputs": [],
   "source": [
    "SIGMA_TARGET = 0.15"
   ]
  },
  {
   "cell_type": "code",
   "execution_count": 75,
   "metadata": {},
   "outputs": [],
   "source": [
    "RAD_DATA_PATH = '../data/clc/rad/'\n",
    "FED_DATA_PATH = '../data/DFF.csv'"
   ]
  },
  {
   "cell_type": "code",
   "execution_count": 76,
   "metadata": {},
   "outputs": [],
   "source": [
    "clc = load_clc_db_records(RAD_DATA_PATH, FED_DATA_PATH)"
   ]
  },
  {
   "cell_type": "code",
   "execution_count": 77,
   "metadata": {},
   "outputs": [
    {
     "name": "stderr",
     "output_type": "stream",
     "text": [
      "../utils/features.py:52: RuntimeWarning: invalid value encountered in log\n",
      "  df['Sigma_Norm'] = np.log(df['Sigma'] / df['Sigma'].rolling(181).mean())\n"
     ]
    }
   ],
   "source": [
    "clc = construct_features_batch(clc)\n",
    "for asset, df in clc.items():\n",
    "    df.set_index('Date', inplace=True)"
   ]
  },
  {
   "cell_type": "code",
   "execution_count": 78,
   "metadata": {},
   "outputs": [],
   "source": [
    "assets_to_use = ['AN', 'BN', 'CC', 'CN', 'CT', 'DT', 'DX', 'EC', 'FB', 'FF', 'FN',\n",
    "       'FX', 'GI', 'GS', 'JN', 'JO', 'KC', 'KW', 'LB', 'LX', 'MD', 'MW',\n",
    "       'NK', 'NR', 'PA', 'SB', 'SN', 'SP', 'SS', 'TU', 'TY', 'US', 'W',\n",
    "       'ZA', 'ZB', 'ZC', 'ZF', 'ZG', 'ZH', 'ZI', 'ZK', 'ZL', 'ZM', 'ZN',\n",
    "       'ZO', 'ZP', 'ZR', 'ZS', 'ZT', 'ZU', 'ZW', 'ZZ']\n",
    "exclude_assets = ['FF', 'EC', 'TU', 'SS']\n",
    "assets_to_use = list(set(assets_to_use) - set(exclude_assets))\n",
    "\n",
    "temp_clc = {}\n",
    "for asset, df in clc.items():\n",
    "    if asset in assets_to_use:\n",
    "        temp_clc[asset] = df\n",
    "clc = temp_clc"
   ]
  },
  {
   "cell_type": "code",
   "execution_count": null,
   "metadata": {},
   "outputs": [],
   "source": []
  },
  {
   "cell_type": "code",
   "execution_count": 81,
   "metadata": {},
   "outputs": [],
   "source": [
    "df = df['1990-1-1':'2020-1-1']"
   ]
  },
  {
   "cell_type": "code",
   "execution_count": 82,
   "metadata": {},
   "outputs": [
    {
     "data": {
      "text/plain": [
       "E[Return]                         0.063597\n",
       "E[Excess Return]                  0.033735\n",
       "Std[Return]                       0.178116\n",
       "Skew[Return]                      0.045155\n",
       "Exc.Kurtosis[Return]             11.292540\n",
       "Sharpe                            0.189397\n",
       "Max_Drawdown                     -0.628860\n",
       "Max_Drawdown_Duration (Years)    13.297619\n",
       "dtype: float64"
      ]
     },
     "execution_count": 82,
     "metadata": {},
     "output_type": "execute_result"
    }
   ],
   "source": [
    "calc_single_asset_backtest(df.Returns_Daily, df.Excess_Returns_Daily, pd.Series(1, index=df.index))"
   ]
  },
  {
   "cell_type": "code",
   "execution_count": 83,
   "metadata": {},
   "outputs": [],
   "source": [
    "monthly_returns = ((1 + df.Returns_Daily).resample('M').prod() - 1).rename('Monthly_Returns')\n",
    "yearly_returns = ((1 + df.Returns_Daily).rolling(252).apply(np.prod, raw=True) - 1).rename('Yearly_Returns')\n",
    "vola = np.sqrt(252) * df['Sigma']\n",
    "sign_data = pd.DataFrame([monthly_returns, yearly_returns, vola]).T\n",
    "sign_data.dropna(inplace=True)\n",
    "sign_data['SIGN'] = 2 * (sign_data['Yearly_Returns'] >= 0) - 1\n",
    "sign_data['Next_Monthly_Returns'] = sign_data['Monthly_Returns'].shift(-1)\n",
    "sign_data['Strategy_Weight'] = sign_data['SIGN'] * SIGMA_TARGET / sign_data['Sigma']\n",
    "sign_data['Performance'] = sign_data['Strategy_Weight'] * sign_data['Next_Monthly_Returns']"
   ]
  },
  {
   "cell_type": "code",
   "execution_count": 86,
   "metadata": {},
   "outputs": [
    {
     "name": "stderr",
     "output_type": "stream",
     "text": [
      "/home/maxlamberti/anaconda3/envs/AI_ENV/lib/python3.6/site-packages/ipykernel_launcher.py:1: FutureWarning: The signature of `Series.to_csv` was aligned to that of `DataFrame.to_csv`, and argument 'header' will change its default value from False to True: please pass an explicit value to suppress this warning.\n",
      "  \"\"\"Entry point for launching an IPython kernel.\n"
     ]
    }
   ],
   "source": [
    "sign_data['Performance'].to_csv('/home/maxlamberti/Desktop/sign_strategy_returns.csv')"
   ]
  },
  {
   "cell_type": "code",
   "execution_count": 23,
   "metadata": {},
   "outputs": [
    {
     "data": {
      "text/plain": [
       "E[Return]                        0.098382\n",
       "E[Excess Return]                 0.075886\n",
       "Std[Return]                      0.163695\n",
       "Skew[Return]                    -0.621192\n",
       "Exc.Kurtosis[Return]             5.796106\n",
       "Sharpe                           0.463580\n",
       "Max_Drawdown                    -0.298306\n",
       "Max_Drawdown_Duration (Years)    3.507937\n",
       "dtype: float64"
      ]
     },
     "execution_count": 23,
     "metadata": {},
     "output_type": "execute_result"
    }
   ],
   "source": [
    "calc_single_asset_backtest(df.Returns_Daily, df.Excess_Returns_Daily, sign_data.Strategy_Weight)"
   ]
  },
  {
   "cell_type": "code",
   "execution_count": 66,
   "metadata": {},
   "outputs": [
    {
     "data": {
      "text/plain": [
       "<Figure size 576x360 with 0 Axes>"
      ]
     },
     "metadata": {},
     "output_type": "display_data"
    }
   ],
   "source": [
    "long_backtest_results = {}\n",
    "plt.figure(figsize=(8,5))\n",
    "returns = 0\n",
    "for asset, df in clc.items():\n",
    "    df = df['1990-1-1':'2020-1-1']\n",
    "#     long_backtest_results[asset] = calc_single_asset_backtest(df.Returns_Daily, df.Excess_Returns_Daily, pd.Series(1, index=df.index))\n",
    "    returns += 0.15 * df.Returns_Daily / (len(clc) * df.Returns_Daily.ewm(span=63).std())"
   ]
  },
  {
   "cell_type": "code",
   "execution_count": 67,
   "metadata": {},
   "outputs": [
    {
     "data": {
      "text/plain": [
       "<matplotlib.axes._subplots.AxesSubplot at 0x7fa35016d208>"
      ]
     },
     "execution_count": 67,
     "metadata": {},
     "output_type": "execute_result"
    },
    {
     "data": {
      "image/png": "[encoded data removed]",
      "text/plain": [
       "<Figure size 432x288 with 1 Axes>"
      ]
     },
     "metadata": {
      "needs_background": "light"
     },
     "output_type": "display_data"
    }
   ],
   "source": [
    "np.log((1 + returns).cumprod()).plot()"
   ]
  },
  {
   "cell_type": "code",
   "execution_count": 68,
   "metadata": {},
   "outputs": [
    {
     "data": {
      "text/plain": [
       "<matplotlib.axes._subplots.AxesSubplot at 0x7fa26c77dd68>"
      ]
     },
     "execution_count": 68,
     "metadata": {},
     "output_type": "execute_result"
    },
    {
     "data": {
      "image/png": "[encoded data removed]",
      "text/plain": [
       "<Figure size 432x288 with 1 Axes>"
      ]
     },
     "metadata": {
      "needs_background": "light"
     },
     "output_type": "display_data"
    }
   ],
   "source": [
    "(1 + returns).cumprod().plot()"
   ]
  },
  {
   "cell_type": "code",
   "execution_count": 36,
   "metadata": {},
   "outputs": [
    {
     "data": {
      "image/png": "[encoded data removed]",
      "text/plain": [
       "<Figure size 576x360 with 1 Axes>"
      ]
     },
     "metadata": {
      "needs_background": "light"
     },
     "output_type": "display_data"
    }
   ],
   "source": [
    "long_backtest_results = {}\n",
    "plt.figure(figsize=(8,5))\n",
    "for asset, df in clc.items():\n",
    "    df = df['1990-1-1':'2020-1-1']\n",
    "    long_backtest_results[asset] = calc_single_asset_backtest(df.Returns_Daily, df.Excess_Returns_Daily, pd.Series(1, index=df.index))\n",
    "    np.log((1 + (0.15 * df.Returns_Daily / (len(clc) * df.Returns_Daily.ewm(span=63).std()))).cumprod()).plot()"
   ]
  },
  {
   "cell_type": "code",
   "execution_count": 17,
   "metadata": {},
   "outputs": [],
   "source": [
    "short_backtest_results = {}\n",
    "for asset, df in clc.items():\n",
    "    df = df['1990-1-1':'2020-1-1']\n",
    "    short_backtest_results[asset] = calc_single_asset_backtest(df.Returns_Daily, df.Excess_Returns_Daily, pd.Series(-1, index=df.index))"
   ]
  },
  {
   "cell_type": "code",
   "execution_count": 85,
   "metadata": {},
   "outputs": [],
   "source": [
    "backtest_results = {}\n",
    "for asset, df in clc.items():\n",
    "    df = df['1990-1-1':'2020-1-1']\n",
    "    monthly_returns = ((1 + df.Returns_Daily).resample('M').prod() - 1).rename('Monthly_Returns')\n",
    "    yearly_returns = ((1 + df.Returns_Daily).rolling(252).apply(np.prod, raw=True) - 1).rename('Yearly_Returns')\n",
    "    vola = np.sqrt(252) * df['Sigma']\n",
    "    sign_data = pd.DataFrame([monthly_returns, yearly_returns, vola]).T\n",
    "    sign_data.dropna(inplace=True)\n",
    "    sign_data['SIGN'] = 2 * (sign_data['Yearly_Returns'] >= 0) - 1\n",
    "    sign_data['Next_Monthly_Returns'] = sign_data['Monthly_Returns'].shift(-1)\n",
    "    sign_data['Strategy_Weight'] = sign_data['SIGN'] * SIGMA_TARGET / sign_data['Sigma']\n",
    "    sign_data['Performance'] = sign_data['Strategy_Weight'] * sign_data['Next_Monthly_Returns']\n",
    "    backtest_results[asset] = calc_single_asset_backtest(df.Returns_Daily, df.Excess_Returns_Daily, sign_data.Strategy_Weight)"
   ]
  },
  {
   "cell_type": "code",
   "execution_count": 86,
   "metadata": {},
   "outputs": [
    {
     "data": {
      "text/html": [
       "<div>\n",
       "<style scoped>\n",
       "    .dataframe tbody tr th:only-of-type {\n",
       "        vertical-align: middle;\n",
       "    }\n",
       "\n",
       "    .dataframe tbody tr th {\n",
       "        vertical-align: top;\n",
       "    }\n",
       "\n",
       "    .dataframe thead th {\n",
       "        text-align: right;\n",
       "    }\n",
       "</style>\n",
       "<table border=\"1\" class=\"dataframe\">\n",
       "  <thead>\n",
       "    <tr style=\"text-align: right;\">\n",
       "      <th></th>\n",
       "      <th>ZM</th>\n",
       "      <th>US</th>\n",
       "      <th>ZK</th>\n",
       "      <th>ZN</th>\n",
       "      <th>TY</th>\n",
       "      <th>FB</th>\n",
       "      <th>PA</th>\n",
       "      <th>CN</th>\n",
       "      <th>FN</th>\n",
       "      <th>ZL</th>\n",
       "      <th>...</th>\n",
       "      <th>JO</th>\n",
       "      <th>ZZ</th>\n",
       "      <th>SN</th>\n",
       "      <th>ZI</th>\n",
       "      <th>DX</th>\n",
       "      <th>ZG</th>\n",
       "      <th>LB</th>\n",
       "      <th>MW</th>\n",
       "      <th>NK</th>\n",
       "      <th>SP</th>\n",
       "    </tr>\n",
       "  </thead>\n",
       "  <tbody>\n",
       "    <tr>\n",
       "      <th>E[Return]</th>\n",
       "      <td>-0.029446</td>\n",
       "      <td>0.032393</td>\n",
       "      <td>0.005625</td>\n",
       "      <td>0.001491</td>\n",
       "      <td>0.058048</td>\n",
       "      <td>0.081569</td>\n",
       "      <td>0.089354</td>\n",
       "      <td>0.013919</td>\n",
       "      <td>0.009755</td>\n",
       "      <td>0.019316</td>\n",
       "      <td>...</td>\n",
       "      <td>-0.033105</td>\n",
       "      <td>-0.011515</td>\n",
       "      <td>-0.006027</td>\n",
       "      <td>-0.014374</td>\n",
       "      <td>0.010574</td>\n",
       "      <td>0.058420</td>\n",
       "      <td>0.055889</td>\n",
       "      <td>0.032814</td>\n",
       "      <td>0.017711</td>\n",
       "      <td>0.084599</td>\n",
       "    </tr>\n",
       "    <tr>\n",
       "      <th>E[Excess Return]</th>\n",
       "      <td>-0.030420</td>\n",
       "      <td>0.007723</td>\n",
       "      <td>0.003067</td>\n",
       "      <td>0.004292</td>\n",
       "      <td>0.027579</td>\n",
       "      <td>0.044254</td>\n",
       "      <td>0.086318</td>\n",
       "      <td>0.012458</td>\n",
       "      <td>0.010767</td>\n",
       "      <td>0.025193</td>\n",
       "      <td>...</td>\n",
       "      <td>-0.030839</td>\n",
       "      <td>-0.015059</td>\n",
       "      <td>0.006055</td>\n",
       "      <td>-0.008950</td>\n",
       "      <td>0.008231</td>\n",
       "      <td>0.076968</td>\n",
       "      <td>0.058767</td>\n",
       "      <td>0.035252</td>\n",
       "      <td>0.016396</td>\n",
       "      <td>0.060637</td>\n",
       "    </tr>\n",
       "    <tr>\n",
       "      <th>Std[Return]</th>\n",
       "      <td>0.160812</td>\n",
       "      <td>0.156675</td>\n",
       "      <td>0.159206</td>\n",
       "      <td>0.163685</td>\n",
       "      <td>0.156898</td>\n",
       "      <td>0.157434</td>\n",
       "      <td>0.163859</td>\n",
       "      <td>0.159096</td>\n",
       "      <td>0.155955</td>\n",
       "      <td>0.156953</td>\n",
       "      <td>...</td>\n",
       "      <td>0.165644</td>\n",
       "      <td>0.157110</td>\n",
       "      <td>0.168953</td>\n",
       "      <td>0.161588</td>\n",
       "      <td>0.157429</td>\n",
       "      <td>0.162257</td>\n",
       "      <td>0.155156</td>\n",
       "      <td>0.160432</td>\n",
       "      <td>0.160674</td>\n",
       "      <td>0.162154</td>\n",
       "    </tr>\n",
       "    <tr>\n",
       "      <th>Skew[Return]</th>\n",
       "      <td>-0.189931</td>\n",
       "      <td>-0.174434</td>\n",
       "      <td>-0.170542</td>\n",
       "      <td>-0.047738</td>\n",
       "      <td>-0.102333</td>\n",
       "      <td>-0.071406</td>\n",
       "      <td>0.158683</td>\n",
       "      <td>-0.209126</td>\n",
       "      <td>-0.120720</td>\n",
       "      <td>-0.215206</td>\n",
       "      <td>...</td>\n",
       "      <td>-1.503853</td>\n",
       "      <td>0.020845</td>\n",
       "      <td>-4.372202</td>\n",
       "      <td>-0.278236</td>\n",
       "      <td>-0.133585</td>\n",
       "      <td>-0.658437</td>\n",
       "      <td>-0.053313</td>\n",
       "      <td>-0.145806</td>\n",
       "      <td>-0.376603</td>\n",
       "      <td>-0.567701</td>\n",
       "    </tr>\n",
       "    <tr>\n",
       "      <th>Exc.Kurtosis[Return]</th>\n",
       "      <td>3.359337</td>\n",
       "      <td>1.112800</td>\n",
       "      <td>3.001134</td>\n",
       "      <td>4.362220</td>\n",
       "      <td>1.585089</td>\n",
       "      <td>2.104369</td>\n",
       "      <td>6.772640</td>\n",
       "      <td>2.199634</td>\n",
       "      <td>1.408356</td>\n",
       "      <td>1.694972</td>\n",
       "      <td>...</td>\n",
       "      <td>42.786704</td>\n",
       "      <td>0.755653</td>\n",
       "      <td>137.648129</td>\n",
       "      <td>4.384731</td>\n",
       "      <td>1.325018</td>\n",
       "      <td>12.716904</td>\n",
       "      <td>-0.269297</td>\n",
       "      <td>1.551736</td>\n",
       "      <td>4.032220</td>\n",
       "      <td>5.493320</td>\n",
       "    </tr>\n",
       "    <tr>\n",
       "      <th>Sharpe</th>\n",
       "      <td>-0.189163</td>\n",
       "      <td>0.049294</td>\n",
       "      <td>0.019267</td>\n",
       "      <td>0.026224</td>\n",
       "      <td>0.175774</td>\n",
       "      <td>0.281098</td>\n",
       "      <td>0.526779</td>\n",
       "      <td>0.078304</td>\n",
       "      <td>0.069042</td>\n",
       "      <td>0.160514</td>\n",
       "      <td>...</td>\n",
       "      <td>-0.186173</td>\n",
       "      <td>-0.095848</td>\n",
       "      <td>0.035836</td>\n",
       "      <td>-0.055390</td>\n",
       "      <td>0.052284</td>\n",
       "      <td>0.474357</td>\n",
       "      <td>0.378760</td>\n",
       "      <td>0.219734</td>\n",
       "      <td>0.102045</td>\n",
       "      <td>0.373949</td>\n",
       "    </tr>\n",
       "    <tr>\n",
       "      <th>Max_Drawdown</th>\n",
       "      <td>-0.812272</td>\n",
       "      <td>-0.521493</td>\n",
       "      <td>-0.570428</td>\n",
       "      <td>-0.646750</td>\n",
       "      <td>-0.527391</td>\n",
       "      <td>-0.453876</td>\n",
       "      <td>-0.474444</td>\n",
       "      <td>-0.477487</td>\n",
       "      <td>-0.660232</td>\n",
       "      <td>-0.488473</td>\n",
       "      <td>...</td>\n",
       "      <td>-0.748043</td>\n",
       "      <td>-0.711706</td>\n",
       "      <td>-0.660577</td>\n",
       "      <td>-0.595834</td>\n",
       "      <td>-0.655433</td>\n",
       "      <td>-0.441676</td>\n",
       "      <td>-0.431114</td>\n",
       "      <td>-0.567040</td>\n",
       "      <td>-0.550260</td>\n",
       "      <td>-0.298344</td>\n",
       "    </tr>\n",
       "    <tr>\n",
       "      <th>Max_Drawdown_Duration (Years)</th>\n",
       "      <td>10.130952</td>\n",
       "      <td>8.192000</td>\n",
       "      <td>14.980159</td>\n",
       "      <td>24.345238</td>\n",
       "      <td>8.192000</td>\n",
       "      <td>5.692000</td>\n",
       "      <td>7.198413</td>\n",
       "      <td>8.604743</td>\n",
       "      <td>11.706349</td>\n",
       "      <td>6.730159</td>\n",
       "      <td>...</td>\n",
       "      <td>28.365079</td>\n",
       "      <td>21.023810</td>\n",
       "      <td>15.023715</td>\n",
       "      <td>26.769841</td>\n",
       "      <td>11.643411</td>\n",
       "      <td>6.222222</td>\n",
       "      <td>9.234127</td>\n",
       "      <td>11.857143</td>\n",
       "      <td>16.142857</td>\n",
       "      <td>3.507937</td>\n",
       "    </tr>\n",
       "  </tbody>\n",
       "</table>\n",
       "<p>8 rows × 48 columns</p>\n",
       "</div>"
      ],
      "text/plain": [
       "                                      ZM        US         ZK         ZN  \\\n",
       "E[Return]                      -0.029446  0.032393   0.005625   0.001491   \n",
       "E[Excess Return]               -0.030420  0.007723   0.003067   0.004292   \n",
       "Std[Return]                     0.160812  0.156675   0.159206   0.163685   \n",
       "Skew[Return]                   -0.189931 -0.174434  -0.170542  -0.047738   \n",
       "Exc.Kurtosis[Return]            3.359337  1.112800   3.001134   4.362220   \n",
       "Sharpe                         -0.189163  0.049294   0.019267   0.026224   \n",
       "Max_Drawdown                   -0.812272 -0.521493  -0.570428  -0.646750   \n",
       "Max_Drawdown_Duration (Years)  10.130952  8.192000  14.980159  24.345238   \n",
       "\n",
       "                                     TY        FB        PA        CN  \\\n",
       "E[Return]                      0.058048  0.081569  0.089354  0.013919   \n",
       "E[Excess Return]               0.027579  0.044254  0.086318  0.012458   \n",
       "Std[Return]                    0.156898  0.157434  0.163859  0.159096   \n",
       "Skew[Return]                  -0.102333 -0.071406  0.158683 -0.209126   \n",
       "Exc.Kurtosis[Return]           1.585089  2.104369  6.772640  2.199634   \n",
       "Sharpe                         0.175774  0.281098  0.526779  0.078304   \n",
       "Max_Drawdown                  -0.527391 -0.453876 -0.474444 -0.477487   \n",
       "Max_Drawdown_Duration (Years)  8.192000  5.692000  7.198413  8.604743   \n",
       "\n",
       "                                      FN        ZL  ...         JO         ZZ  \\\n",
       "E[Return]                       0.009755  0.019316  ...  -0.033105  -0.011515   \n",
       "E[Excess Return]                0.010767  0.025193  ...  -0.030839  -0.015059   \n",
       "Std[Return]                     0.155955  0.156953  ...   0.165644   0.157110   \n",
       "Skew[Return]                   -0.120720 -0.215206  ...  -1.503853   0.020845   \n",
       "Exc.Kurtosis[Return]            1.408356  1.694972  ...  42.786704   0.755653   \n",
       "Sharpe                          0.069042  0.160514  ...  -0.186173  -0.095848   \n",
       "Max_Drawdown                   -0.660232 -0.488473  ...  -0.748043  -0.711706   \n",
       "Max_Drawdown_Duration (Years)  11.706349  6.730159  ...  28.365079  21.023810   \n",
       "\n",
       "                                       SN         ZI         DX         ZG  \\\n",
       "E[Return]                       -0.006027  -0.014374   0.010574   0.058420   \n",
       "E[Excess Return]                 0.006055  -0.008950   0.008231   0.076968   \n",
       "Std[Return]                      0.168953   0.161588   0.157429   0.162257   \n",
       "Skew[Return]                    -4.372202  -0.278236  -0.133585  -0.658437   \n",
       "Exc.Kurtosis[Return]           137.648129   4.384731   1.325018  12.716904   \n",
       "Sharpe                           0.035836  -0.055390   0.052284   0.474357   \n",
       "Max_Drawdown                    -0.660577  -0.595834  -0.655433  -0.441676   \n",
       "Max_Drawdown_Duration (Years)   15.023715  26.769841  11.643411   6.222222   \n",
       "\n",
       "                                     LB         MW         NK        SP  \n",
       "E[Return]                      0.055889   0.032814   0.017711  0.084599  \n",
       "E[Excess Return]               0.058767   0.035252   0.016396  0.060637  \n",
       "Std[Return]                    0.155156   0.160432   0.160674  0.162154  \n",
       "Skew[Return]                  -0.053313  -0.145806  -0.376603 -0.567701  \n",
       "Exc.Kurtosis[Return]          -0.269297   1.551736   4.032220  5.493320  \n",
       "Sharpe                         0.378760   0.219734   0.102045  0.373949  \n",
       "Max_Drawdown                  -0.431114  -0.567040  -0.550260 -0.298344  \n",
       "Max_Drawdown_Duration (Years)  9.234127  11.857143  16.142857  3.507937  \n",
       "\n",
       "[8 rows x 48 columns]"
      ]
     },
     "execution_count": 86,
     "metadata": {},
     "output_type": "execute_result"
    }
   ],
   "source": [
    "sign_df = pd.DataFrame(backtest_results)\n",
    "sign_df"
   ]
  },
  {
   "cell_type": "code",
   "execution_count": 19,
   "metadata": {},
   "outputs": [
    {
     "data": {
      "text/html": [
       "<div>\n",
       "<style scoped>\n",
       "    .dataframe tbody tr th:only-of-type {\n",
       "        vertical-align: middle;\n",
       "    }\n",
       "\n",
       "    .dataframe tbody tr th {\n",
       "        vertical-align: top;\n",
       "    }\n",
       "\n",
       "    .dataframe thead th {\n",
       "        text-align: right;\n",
       "    }\n",
       "</style>\n",
       "<table border=\"1\" class=\"dataframe\">\n",
       "  <thead>\n",
       "    <tr style=\"text-align: right;\">\n",
       "      <th></th>\n",
       "      <th>ZM</th>\n",
       "      <th>US</th>\n",
       "      <th>ZK</th>\n",
       "      <th>ZN</th>\n",
       "      <th>TY</th>\n",
       "      <th>FB</th>\n",
       "      <th>PA</th>\n",
       "      <th>CN</th>\n",
       "      <th>FN</th>\n",
       "      <th>ZL</th>\n",
       "      <th>...</th>\n",
       "      <th>JO</th>\n",
       "      <th>ZZ</th>\n",
       "      <th>SN</th>\n",
       "      <th>ZI</th>\n",
       "      <th>DX</th>\n",
       "      <th>ZG</th>\n",
       "      <th>LB</th>\n",
       "      <th>MW</th>\n",
       "      <th>NK</th>\n",
       "      <th>SP</th>\n",
       "    </tr>\n",
       "  </thead>\n",
       "  <tbody>\n",
       "    <tr>\n",
       "      <th>E[Return]</th>\n",
       "      <td>0.072242</td>\n",
       "      <td>0.045132</td>\n",
       "      <td>0.040869</td>\n",
       "      <td>-0.208092</td>\n",
       "      <td>0.036260</td>\n",
       "      <td>0.026334</td>\n",
       "      <td>0.110789</td>\n",
       "      <td>-0.000148</td>\n",
       "      <td>-0.003557</td>\n",
       "      <td>-0.030739</td>\n",
       "      <td>...</td>\n",
       "      <td>-0.050507</td>\n",
       "      <td>-0.032760</td>\n",
       "      <td>0.001569</td>\n",
       "      <td>0.005229</td>\n",
       "      <td>-0.008260</td>\n",
       "      <td>0.015341</td>\n",
       "      <td>-0.076141</td>\n",
       "      <td>0.013909</td>\n",
       "      <td>-0.005314</td>\n",
       "      <td>0.063597</td>\n",
       "    </tr>\n",
       "    <tr>\n",
       "      <th>E[Excess Return]</th>\n",
       "      <td>0.042128</td>\n",
       "      <td>0.015703</td>\n",
       "      <td>0.011694</td>\n",
       "      <td>-0.228992</td>\n",
       "      <td>0.007081</td>\n",
       "      <td>-0.002566</td>\n",
       "      <td>0.079078</td>\n",
       "      <td>-0.028320</td>\n",
       "      <td>-0.031528</td>\n",
       "      <td>-0.057967</td>\n",
       "      <td>...</td>\n",
       "      <td>-0.077130</td>\n",
       "      <td>-0.059934</td>\n",
       "      <td>-0.026655</td>\n",
       "      <td>-0.022956</td>\n",
       "      <td>-0.036589</td>\n",
       "      <td>-0.013123</td>\n",
       "      <td>-0.102118</td>\n",
       "      <td>-0.014566</td>\n",
       "      <td>-0.031414</td>\n",
       "      <td>0.033735</td>\n",
       "    </tr>\n",
       "    <tr>\n",
       "      <th>Std[Return]</th>\n",
       "      <td>0.243238</td>\n",
       "      <td>0.096284</td>\n",
       "      <td>0.255762</td>\n",
       "      <td>0.477689</td>\n",
       "      <td>0.059192</td>\n",
       "      <td>0.039152</td>\n",
       "      <td>0.312673</td>\n",
       "      <td>0.077417</td>\n",
       "      <td>0.100959</td>\n",
       "      <td>0.220149</td>\n",
       "      <td>...</td>\n",
       "      <td>0.317976</td>\n",
       "      <td>0.245550</td>\n",
       "      <td>0.114910</td>\n",
       "      <td>0.280290</td>\n",
       "      <td>0.084483</td>\n",
       "      <td>0.159636</td>\n",
       "      <td>0.285074</td>\n",
       "      <td>0.226993</td>\n",
       "      <td>0.239248</td>\n",
       "      <td>0.178116</td>\n",
       "    </tr>\n",
       "    <tr>\n",
       "      <th>Skew[Return]</th>\n",
       "      <td>0.075466</td>\n",
       "      <td>-0.151753</td>\n",
       "      <td>-0.019223</td>\n",
       "      <td>0.226448</td>\n",
       "      <td>-0.066209</td>\n",
       "      <td>-0.115307</td>\n",
       "      <td>-0.030883</td>\n",
       "      <td>-0.023878</td>\n",
       "      <td>0.026320</td>\n",
       "      <td>0.235208</td>\n",
       "      <td>...</td>\n",
       "      <td>0.820079</td>\n",
       "      <td>0.027535</td>\n",
       "      <td>1.657899</td>\n",
       "      <td>-0.515845</td>\n",
       "      <td>-0.020956</td>\n",
       "      <td>-0.077373</td>\n",
       "      <td>0.151814</td>\n",
       "      <td>0.231717</td>\n",
       "      <td>0.029095</td>\n",
       "      <td>0.045155</td>\n",
       "    </tr>\n",
       "    <tr>\n",
       "      <th>Exc.Kurtosis[Return]</th>\n",
       "      <td>2.305057</td>\n",
       "      <td>1.588973</td>\n",
       "      <td>4.244446</td>\n",
       "      <td>2.791918</td>\n",
       "      <td>3.008259</td>\n",
       "      <td>3.064948</td>\n",
       "      <td>5.052180</td>\n",
       "      <td>5.873745</td>\n",
       "      <td>1.946064</td>\n",
       "      <td>2.156607</td>\n",
       "      <td>...</td>\n",
       "      <td>12.542530</td>\n",
       "      <td>1.247414</td>\n",
       "      <td>44.760862</td>\n",
       "      <td>6.821933</td>\n",
       "      <td>1.836374</td>\n",
       "      <td>8.051008</td>\n",
       "      <td>-0.079560</td>\n",
       "      <td>2.458354</td>\n",
       "      <td>5.377750</td>\n",
       "      <td>11.292540</td>\n",
       "    </tr>\n",
       "    <tr>\n",
       "      <th>Sharpe</th>\n",
       "      <td>0.173195</td>\n",
       "      <td>0.163092</td>\n",
       "      <td>0.045722</td>\n",
       "      <td>-0.479375</td>\n",
       "      <td>0.119627</td>\n",
       "      <td>-0.065548</td>\n",
       "      <td>0.252908</td>\n",
       "      <td>-0.365808</td>\n",
       "      <td>-0.312285</td>\n",
       "      <td>-0.263309</td>\n",
       "      <td>...</td>\n",
       "      <td>-0.242565</td>\n",
       "      <td>-0.244081</td>\n",
       "      <td>-0.231966</td>\n",
       "      <td>-0.081901</td>\n",
       "      <td>-0.433099</td>\n",
       "      <td>-0.082206</td>\n",
       "      <td>-0.358215</td>\n",
       "      <td>-0.064168</td>\n",
       "      <td>-0.131304</td>\n",
       "      <td>0.189397</td>\n",
       "    </tr>\n",
       "    <tr>\n",
       "      <th>Max_Drawdown</th>\n",
       "      <td>-0.452612</td>\n",
       "      <td>-0.193498</td>\n",
       "      <td>-0.685807</td>\n",
       "      <td>-0.999268</td>\n",
       "      <td>-0.140358</td>\n",
       "      <td>-0.097641</td>\n",
       "      <td>-0.883074</td>\n",
       "      <td>-0.349617</td>\n",
       "      <td>-0.492001</td>\n",
       "      <td>-0.782398</td>\n",
       "      <td>...</td>\n",
       "      <td>-0.900919</td>\n",
       "      <td>-0.828266</td>\n",
       "      <td>-0.507492</td>\n",
       "      <td>-0.743369</td>\n",
       "      <td>-0.448182</td>\n",
       "      <td>-0.628368</td>\n",
       "      <td>-0.981892</td>\n",
       "      <td>-0.739010</td>\n",
       "      <td>-0.794180</td>\n",
       "      <td>-0.628860</td>\n",
       "    </tr>\n",
       "    <tr>\n",
       "      <th>Max_Drawdown_Duration (Years)</th>\n",
       "      <td>6.789683</td>\n",
       "      <td>3.071146</td>\n",
       "      <td>8.876984</td>\n",
       "      <td>25.809524</td>\n",
       "      <td>3.083004</td>\n",
       "      <td>3.644269</td>\n",
       "      <td>16.861111</td>\n",
       "      <td>12.972332</td>\n",
       "      <td>24.654762</td>\n",
       "      <td>17.634921</td>\n",
       "      <td>...</td>\n",
       "      <td>28.007937</td>\n",
       "      <td>22.980159</td>\n",
       "      <td>16.177866</td>\n",
       "      <td>16.115079</td>\n",
       "      <td>18.244186</td>\n",
       "      <td>17.801587</td>\n",
       "      <td>26.777778</td>\n",
       "      <td>11.857143</td>\n",
       "      <td>29.071429</td>\n",
       "      <td>13.297619</td>\n",
       "    </tr>\n",
       "  </tbody>\n",
       "</table>\n",
       "<p>8 rows × 48 columns</p>\n",
       "</div>"
      ],
      "text/plain": [
       "                                     ZM        US        ZK         ZN  \\\n",
       "E[Return]                      0.072242  0.045132  0.040869  -0.208092   \n",
       "E[Excess Return]               0.042128  0.015703  0.011694  -0.228992   \n",
       "Std[Return]                    0.243238  0.096284  0.255762   0.477689   \n",
       "Skew[Return]                   0.075466 -0.151753 -0.019223   0.226448   \n",
       "Exc.Kurtosis[Return]           2.305057  1.588973  4.244446   2.791918   \n",
       "Sharpe                         0.173195  0.163092  0.045722  -0.479375   \n",
       "Max_Drawdown                  -0.452612 -0.193498 -0.685807  -0.999268   \n",
       "Max_Drawdown_Duration (Years)  6.789683  3.071146  8.876984  25.809524   \n",
       "\n",
       "                                     TY        FB         PA         CN  \\\n",
       "E[Return]                      0.036260  0.026334   0.110789  -0.000148   \n",
       "E[Excess Return]               0.007081 -0.002566   0.079078  -0.028320   \n",
       "Std[Return]                    0.059192  0.039152   0.312673   0.077417   \n",
       "Skew[Return]                  -0.066209 -0.115307  -0.030883  -0.023878   \n",
       "Exc.Kurtosis[Return]           3.008259  3.064948   5.052180   5.873745   \n",
       "Sharpe                         0.119627 -0.065548   0.252908  -0.365808   \n",
       "Max_Drawdown                  -0.140358 -0.097641  -0.883074  -0.349617   \n",
       "Max_Drawdown_Duration (Years)  3.083004  3.644269  16.861111  12.972332   \n",
       "\n",
       "                                      FN         ZL  ...         JO  \\\n",
       "E[Return]                      -0.003557  -0.030739  ...  -0.050507   \n",
       "E[Excess Return]               -0.031528  -0.057967  ...  -0.077130   \n",
       "Std[Return]                     0.100959   0.220149  ...   0.317976   \n",
       "Skew[Return]                    0.026320   0.235208  ...   0.820079   \n",
       "Exc.Kurtosis[Return]            1.946064   2.156607  ...  12.542530   \n",
       "Sharpe                         -0.312285  -0.263309  ...  -0.242565   \n",
       "Max_Drawdown                   -0.492001  -0.782398  ...  -0.900919   \n",
       "Max_Drawdown_Duration (Years)  24.654762  17.634921  ...  28.007937   \n",
       "\n",
       "                                      ZZ         SN         ZI         DX  \\\n",
       "E[Return]                      -0.032760   0.001569   0.005229  -0.008260   \n",
       "E[Excess Return]               -0.059934  -0.026655  -0.022956  -0.036589   \n",
       "Std[Return]                     0.245550   0.114910   0.280290   0.084483   \n",
       "Skew[Return]                    0.027535   1.657899  -0.515845  -0.020956   \n",
       "Exc.Kurtosis[Return]            1.247414  44.760862   6.821933   1.836374   \n",
       "Sharpe                         -0.244081  -0.231966  -0.081901  -0.433099   \n",
       "Max_Drawdown                   -0.828266  -0.507492  -0.743369  -0.448182   \n",
       "Max_Drawdown_Duration (Years)  22.980159  16.177866  16.115079  18.244186   \n",
       "\n",
       "                                      ZG         LB         MW         NK  \\\n",
       "E[Return]                       0.015341  -0.076141   0.013909  -0.005314   \n",
       "E[Excess Return]               -0.013123  -0.102118  -0.014566  -0.031414   \n",
       "Std[Return]                     0.159636   0.285074   0.226993   0.239248   \n",
       "Skew[Return]                   -0.077373   0.151814   0.231717   0.029095   \n",
       "Exc.Kurtosis[Return]            8.051008  -0.079560   2.458354   5.377750   \n",
       "Sharpe                         -0.082206  -0.358215  -0.064168  -0.131304   \n",
       "Max_Drawdown                   -0.628368  -0.981892  -0.739010  -0.794180   \n",
       "Max_Drawdown_Duration (Years)  17.801587  26.777778  11.857143  29.071429   \n",
       "\n",
       "                                      SP  \n",
       "E[Return]                       0.063597  \n",
       "E[Excess Return]                0.033735  \n",
       "Std[Return]                     0.178116  \n",
       "Skew[Return]                    0.045155  \n",
       "Exc.Kurtosis[Return]           11.292540  \n",
       "Sharpe                          0.189397  \n",
       "Max_Drawdown                   -0.628860  \n",
       "Max_Drawdown_Duration (Years)  13.297619  \n",
       "\n",
       "[8 rows x 48 columns]"
      ]
     },
     "execution_count": 19,
     "metadata": {},
     "output_type": "execute_result"
    }
   ],
   "source": [
    "long_df = pd.DataFrame(long_backtest_results)\n",
    "short_df = pd.DataFrame(short_backtest_results)\n",
    "long_df"
   ]
  },
  {
   "cell_type": "code",
   "execution_count": 88,
   "metadata": {},
   "outputs": [
    {
     "data": {
      "text/plain": [
       "<matplotlib.collections.LineCollection at 0x7fd8c4380eb8>"
      ]
     },
     "execution_count": 88,
     "metadata": {},
     "output_type": "execute_result"
    },
    {
     "data": {
      "image/png": "[encoded data removed]",
      "text/plain": [
       "<Figure size 648x216 with 1 Axes>"
      ]
     },
     "metadata": {
      "needs_background": "light"
     },
     "output_type": "display_data"
    }
   ],
   "source": [
    "plt.figure(figsize=(9, 3))\n",
    "short_df.loc['Sharpe'].plot('bar')\n",
    "plt.ylim(-0.6, 0.6)\n",
    "plt.hlines(0, -10, 90)"
   ]
  },
  {
   "cell_type": "code",
   "execution_count": 89,
   "metadata": {},
   "outputs": [
    {
     "data": {
      "text/plain": [
       "<matplotlib.collections.LineCollection at 0x7fd8c4253898>"
      ]
     },
     "execution_count": 89,
     "metadata": {},
     "output_type": "execute_result"
    },
    {
     "data": {
      "image/png": "[encoded data removed]",
      "text/plain": [
       "<Figure size 648x216 with 1 Axes>"
      ]
     },
     "metadata": {
      "needs_background": "light"
     },
     "output_type": "display_data"
    }
   ],
   "source": [
    "plt.figure(figsize=(9, 3))\n",
    "long_df.loc['Sharpe'].plot('bar')\n",
    "plt.ylim(-0.6, 0.6)\n",
    "plt.hlines(0, -10, 90)"
   ]
  },
  {
   "cell_type": "code",
   "execution_count": 91,
   "metadata": {},
   "outputs": [
    {
     "data": {
      "text/plain": [
       "<matplotlib.collections.LineCollection at 0x7fd89056ebe0>"
      ]
     },
     "execution_count": 91,
     "metadata": {},
     "output_type": "execute_result"
    },
    {
     "data": {
      "image/png": "[encoded data removed]",
      "text/plain": [
       "<Figure size 648x216 with 1 Axes>"
      ]
     },
     "metadata": {
      "needs_background": "light"
     },
     "output_type": "display_data"
    }
   ],
   "source": [
    "plt.figure(figsize=(9, 3))\n",
    "sign_df.loc['Sharpe'].plot('bar')\n",
    "plt.ylim(-0.6, 0.6)\n",
    "plt.hlines(0, -10, 90)"
   ]
  },
  {
   "cell_type": "code",
   "execution_count": null,
   "metadata": {},
   "outputs": [],
   "source": [
    "long_df.loc['Std[Return]'] > sign_df.loc['Std[Return]']"
   ]
  },
  {
   "cell_type": "code",
   "execution_count": 48,
   "metadata": {},
   "outputs": [
    {
     "data": {
      "text/plain": [
       "ZM     True\n",
       "FF    False\n",
       "US     True\n",
       "ZK     True\n",
       "ZN    False\n",
       "TY     True\n",
       "FB     True\n",
       "PA     True\n",
       "CN    False\n",
       "FN    False\n",
       "ZL     True\n",
       "ZS    False\n",
       "NR    False\n",
       "KC     True\n",
       "CC    False\n",
       "FX    False\n",
       "KW     True\n",
       "LX     True\n",
       "EC    False\n",
       "ZH     True\n",
       "ZW    False\n",
       "AN     True\n",
       "BN    False\n",
       "ZC    False\n",
       "ZP     True\n",
       "MD     True\n",
       "JN     True\n",
       "ZT    False\n",
       "W     False\n",
       "ZU     True\n",
       "ZR    False\n",
       "ZB     True\n",
       "ZO     True\n",
       "SB     True\n",
       "GS     True\n",
       "GI     True\n",
       "ZF     True\n",
       "TU    False\n",
       "CT     True\n",
       "DT     True\n",
       "SS    False\n",
       "ZA     True\n",
       "JO    False\n",
       "ZZ    False\n",
       "SN    False\n",
       "ZI     True\n",
       "DX    False\n",
       "ZG     True\n",
       "LB     True\n",
       "MW     True\n",
       "NK     True\n",
       "SP     True\n",
       "Name: Sharpe, dtype: bool"
      ]
     },
     "execution_count": 48,
     "metadata": {},
     "output_type": "execute_result"
    }
   ],
   "source": [
    "short_df.loc['Sharpe'] < sign_df.loc['Sharpe']"
   ]
  },
  {
   "cell_type": "code",
   "execution_count": 49,
   "metadata": {},
   "outputs": [
    {
     "data": {
      "text/plain": [
       "ZM    False\n",
       "FF     True\n",
       "US    False\n",
       "ZK    False\n",
       "ZN    False\n",
       "TY    False\n",
       "FB    False\n",
       "PA    False\n",
       "CN    False\n",
       "FN    False\n",
       "ZL    False\n",
       "ZS    False\n",
       "NR    False\n",
       "KC    False\n",
       "CC    False\n",
       "FX    False\n",
       "KW    False\n",
       "LX    False\n",
       "EC     True\n",
       "ZH    False\n",
       "ZW    False\n",
       "AN    False\n",
       "BN    False\n",
       "ZC    False\n",
       "ZP    False\n",
       "MD    False\n",
       "JN    False\n",
       "ZT    False\n",
       "W     False\n",
       "ZU    False\n",
       "ZR    False\n",
       "ZB    False\n",
       "ZO    False\n",
       "SB    False\n",
       "GS    False\n",
       "GI    False\n",
       "ZF    False\n",
       "TU     True\n",
       "CT    False\n",
       "DT    False\n",
       "SS     True\n",
       "ZA    False\n",
       "JO    False\n",
       "ZZ    False\n",
       "SN    False\n",
       "ZI    False\n",
       "DX    False\n",
       "ZG    False\n",
       "LB    False\n",
       "MW    False\n",
       "NK    False\n",
       "SP    False\n",
       "Name: Sharpe, dtype: bool"
      ]
     },
     "execution_count": 49,
     "metadata": {},
     "output_type": "execute_result"
    }
   ],
   "source": [
    "long_df.loc['Sharpe'] < -0.6  "
   ]
  },
  {
   "cell_type": "code",
   "execution_count": null,
   "metadata": {},
   "outputs": [],
   "source": []
  },
  {
   "cell_type": "code",
   "execution_count": 60,
   "metadata": {},
   "outputs": [],
   "source": [
    "spy = pd.read_csv('../data/SPY.csv')\n",
    "spy['Date'] = pd.to_datetime(spy['Date'])\n",
    "spy.set_index('Date', inplace=True)\n",
    "spy = 10 * spy['Close']\n"
   ]
  },
  {
   "cell_type": "code",
   "execution_count": 61,
   "metadata": {},
   "outputs": [],
   "source": [
    "sp_futures = clc['SP']['Settle']"
   ]
  },
  {
   "cell_type": "code",
   "execution_count": 63,
   "metadata": {},
   "outputs": [
    {
     "data": {
      "text/plain": [
       "<matplotlib.axes._subplots.AxesSubplot at 0x7fa274211780>"
      ]
     },
     "execution_count": 63,
     "metadata": {},
     "output_type": "execute_result"
    },
    {
     "data": {
      "image/png": "[encoded data removed]",
      "text/plain": [
       "<Figure size 432x288 with 1 Axes>"
      ]
     },
     "metadata": {
      "needs_background": "light"
     },
     "output_type": "display_data"
    }
   ],
   "source": [
    "np.log(spy).plot()\n",
    "np.log(sp_futures).plot()"
   ]
  },
  {
   "cell_type": "code",
   "execution_count": 55,
   "metadata": {},
   "outputs": [
    {
     "data": {
      "text/plain": [
       "Date\n",
       "1994-01-03     46.468750\n",
       "1994-01-04     46.656250\n",
       "1994-01-05     46.750000\n",
       "1994-01-06     46.750000\n",
       "1994-01-07     47.031250\n",
       "1994-01-10     47.593750\n",
       "1994-01-11     47.500000\n",
       "1994-01-12     47.343750\n",
       "1994-01-13     47.218750\n",
       "1994-01-14     47.406250\n",
       "1994-01-17     47.406250\n",
       "1994-01-18     47.468750\n",
       "1994-01-19     47.343750\n",
       "1994-01-20     47.468750\n",
       "1994-01-21     47.375000\n",
       "1994-01-24     47.187500\n",
       "1994-01-25     47.187500\n",
       "1994-01-26     47.312500\n",
       "1994-01-27     47.750000\n",
       "1994-01-28     47.875000\n",
       "1994-01-31     48.218750\n",
       "1994-02-01     47.968750\n",
       "1994-02-02     48.281250\n",
       "1994-02-03     48.062500\n",
       "1994-02-04     46.968750\n",
       "1994-02-07     47.187500\n",
       "1994-02-08     47.218750\n",
       "1994-02-09     47.406250\n",
       "1994-02-10     47.000000\n",
       "1994-02-11     47.156250\n",
       "                 ...    \n",
       "2019-11-18    312.019989\n",
       "2019-11-19    311.929993\n",
       "2019-11-20    310.769989\n",
       "2019-11-21    310.269989\n",
       "2019-11-22    310.959991\n",
       "2019-11-25    313.369995\n",
       "2019-11-26    314.079987\n",
       "2019-11-27    315.480011\n",
       "2019-11-29    314.309998\n",
       "2019-12-02    311.640015\n",
       "2019-12-03    309.549988\n",
       "2019-12-04    311.459991\n",
       "2019-12-05    312.019989\n",
       "2019-12-06    314.869995\n",
       "2019-12-09    313.880005\n",
       "2019-12-10    313.529999\n",
       "2019-12-11    314.420013\n",
       "2019-12-12    317.130005\n",
       "2019-12-13    317.320007\n",
       "2019-12-16    319.500000\n",
       "2019-12-17    319.570007\n",
       "2019-12-18    319.589996\n",
       "2019-12-19    320.899994\n",
       "2019-12-20    320.730011\n",
       "2019-12-23    321.220001\n",
       "2019-12-24    321.230011\n",
       "2019-12-26    322.940002\n",
       "2019-12-27    322.859985\n",
       "2019-12-30    321.079987\n",
       "2019-12-31    321.859985\n",
       "Name: Close, Length: 6546, dtype: float64"
      ]
     },
     "execution_count": 55,
     "metadata": {},
     "output_type": "execute_result"
    }
   ],
   "source": [
    "spy"
   ]
  },
  {
   "cell_type": "code",
   "execution_count": null,
   "metadata": {},
   "outputs": [],
   "source": []
  }
 ],
 "metadata": {
  "kernelspec": {
   "display_name": "Python 3",
   "language": "python",
   "name": "python3"
  },
  "language_info": {
   "codemirror_mode": {
    "name": "ipython",
    "version": 3
   },
   "file_extension": ".py",
   "mimetype": "text/x-python",
   "name": "python",
   "nbconvert_exporter": "python",
   "pygments_lexer": "ipython3",
   "version": "3.6.8"
  }
 },
 "nbformat": 4,
 "nbformat_minor": 4
}
